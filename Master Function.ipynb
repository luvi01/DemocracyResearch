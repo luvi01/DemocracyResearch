{
 "cells": [
  {
   "cell_type": "code",
   "execution_count": 125,
   "metadata": {},
   "outputs": [],
   "source": [
    "%matplotlib notebook\n",
    "%reset -f\n",
    "\n",
    "\n",
    "import pandas as pd\n",
    "import numpy as np\n",
    "from scipy.stats import norm, probplot\n",
    "import statsmodels.api as sm\n",
    "import matplotlib.pyplot as plt\n",
    "from mpl_toolkits.mplot3d import Axes3D\n",
    "import seaborn as sn\n",
    "import matplotlib.pyplot as plt"
   ]
  },
  {
   "cell_type": "code",
   "execution_count": 209,
   "metadata": {},
   "outputs": [],
   "source": [
    "def regress(X,Y):\n",
    "    #X_cp = sm.add_constant(X)\n",
    "    model = sm.OLS(Y,X)\n",
    "    results = model.fit()\n",
    "    return results"
   ]
  },
  {
   "cell_type": "code",
   "execution_count": 134,
   "metadata": {},
   "outputs": [
    {
     "data": {
      "text/plain": [
       "0"
      ]
     },
     "execution_count": 134,
     "metadata": {},
     "output_type": "execute_result"
    }
   ],
   "source": [
    "db = pd.read_excel('VDEM.xlsx')\n",
    "db.set_index(\"Country\")\n",
    "db.isnull().sum().sum()"
   ]
  },
  {
   "cell_type": "code",
   "execution_count": 135,
   "metadata": {},
   "outputs": [
    {
     "data": {
      "text/plain": [
       "Index(['Country',    'VDEM',         1,         3,         5,         7,\n",
       "               9,        11,        13,        16,        18,        23,\n",
       "              25,        26,        39,         2,         4,         6,\n",
       "               8,        10,        12,        20,        22,        24,\n",
       "              27,    '13.1',        30,        31,        32,        33,\n",
       "              37,        38,        14,        15,        34,        35,\n",
       "              36,        40,        41,        43,        45,        46,\n",
       "              47,        48,        28,        29,        49,        50,\n",
       "              51,        52,        53,        54,        55,        56,\n",
       "              57,        58,        59,        60,        61,        63],\n",
       "      dtype='object')"
      ]
     },
     "execution_count": 135,
     "metadata": {},
     "output_type": "execute_result"
    }
   ],
   "source": [
    "db.columns"
   ]
  },
  {
   "cell_type": "code",
   "execution_count": 136,
   "metadata": {},
   "outputs": [],
   "source": [
    "df = db[['VDEM',1,         3,         5,         7,\n",
    "               9,        11,        13,        16,        18,        23,\n",
    "              25,        26,        39,         2,         4,         6,\n",
    "               8,        10,        12,        20,        22,        24,\n",
    "              27,    '13.1',        30,        31,        32,        33,\n",
    "              37,        38,        14,        15,        34,        35,\n",
    "              36,        40,        41,        43,        45,        46,\n",
    "              47,        48,        28,        29,        49,        50,\n",
    "              51,        52,        53,        54,        55,        56,\n",
    "              57,        58,        59,        60,        61,        63]]"
   ]
  },
  {
   "cell_type": "code",
   "execution_count": 206,
   "metadata": {},
   "outputs": [],
   "source": [
    "Y = df['VDEM']\n",
    "X = df[[53,\n",
    "49,\n",
    "7,\n",
    "37,\n",
    "16,\n",
    "40,\n",
    "46,\n",
    "20,\n",
    "58,\n",
    "41,\n",
    "52,\n",
    "39,\n",
    "38]]"
   ]
  },
  {
   "cell_type": "code",
   "execution_count": 207,
   "metadata": {},
   "outputs": [
    {
     "data": {
      "text/html": [
       "<div>\n",
       "<style scoped>\n",
       "    .dataframe tbody tr th:only-of-type {\n",
       "        vertical-align: middle;\n",
       "    }\n",
       "\n",
       "    .dataframe tbody tr th {\n",
       "        vertical-align: top;\n",
       "    }\n",
       "\n",
       "    .dataframe thead th {\n",
       "        text-align: right;\n",
       "    }\n",
       "</style>\n",
       "<table border=\"1\" class=\"dataframe\">\n",
       "  <thead>\n",
       "    <tr style=\"text-align: right;\">\n",
       "      <th></th>\n",
       "      <th>VDEM</th>\n",
       "    </tr>\n",
       "  </thead>\n",
       "  <tbody>\n",
       "    <tr>\n",
       "      <td>VDEM</td>\n",
       "      <td>1.000000</td>\n",
       "    </tr>\n",
       "    <tr>\n",
       "      <td>53</td>\n",
       "      <td>0.403432</td>\n",
       "    </tr>\n",
       "    <tr>\n",
       "      <td>49</td>\n",
       "      <td>0.283276</td>\n",
       "    </tr>\n",
       "    <tr>\n",
       "      <td>7</td>\n",
       "      <td>0.276265</td>\n",
       "    </tr>\n",
       "    <tr>\n",
       "      <td>37</td>\n",
       "      <td>0.235270</td>\n",
       "    </tr>\n",
       "    <tr>\n",
       "      <td>16</td>\n",
       "      <td>0.214680</td>\n",
       "    </tr>\n",
       "    <tr>\n",
       "      <td>40</td>\n",
       "      <td>0.199121</td>\n",
       "    </tr>\n",
       "    <tr>\n",
       "      <td>46</td>\n",
       "      <td>0.177060</td>\n",
       "    </tr>\n",
       "    <tr>\n",
       "      <td>20</td>\n",
       "      <td>0.167169</td>\n",
       "    </tr>\n",
       "    <tr>\n",
       "      <td>58</td>\n",
       "      <td>0.161601</td>\n",
       "    </tr>\n",
       "    <tr>\n",
       "      <td>41</td>\n",
       "      <td>0.157901</td>\n",
       "    </tr>\n",
       "    <tr>\n",
       "      <td>52</td>\n",
       "      <td>0.149095</td>\n",
       "    </tr>\n",
       "    <tr>\n",
       "      <td>39</td>\n",
       "      <td>0.143969</td>\n",
       "    </tr>\n",
       "    <tr>\n",
       "      <td>38</td>\n",
       "      <td>0.137249</td>\n",
       "    </tr>\n",
       "  </tbody>\n",
       "</table>\n",
       "</div>"
      ],
      "text/plain": [
       "          VDEM\n",
       "VDEM  1.000000\n",
       "53    0.403432\n",
       "49    0.283276\n",
       "7     0.276265\n",
       "37    0.235270\n",
       "16    0.214680\n",
       "40    0.199121\n",
       "46    0.177060\n",
       "20    0.167169\n",
       "58    0.161601\n",
       "41    0.157901\n",
       "52    0.149095\n",
       "39    0.143969\n",
       "38    0.137249"
      ]
     },
     "execution_count": 207,
     "metadata": {},
     "output_type": "execute_result"
    }
   ],
   "source": [
    "l = db.corr().head(1)\n",
    "l = l.transpose()\n",
    "l = l.sort_values(by=['VDEM'],ascending=False)\n",
    "l.head(14)"
   ]
  },
  {
   "cell_type": "code",
   "execution_count": 210,
   "metadata": {
    "scrolled": false
   },
   "outputs": [
    {
     "data": {
      "text/html": [
       "<table class=\"simpletable\">\n",
       "<caption>OLS Regression Results</caption>\n",
       "<tr>\n",
       "  <th>Dep. Variable:</th>          <td>VDEM</td>       <th>  R-squared (uncentered):</th>      <td>   0.969</td>\n",
       "</tr>\n",
       "<tr>\n",
       "  <th>Model:</th>                   <td>OLS</td>       <th>  Adj. R-squared (uncentered):</th> <td>   0.952</td>\n",
       "</tr>\n",
       "<tr>\n",
       "  <th>Method:</th>             <td>Least Squares</td>  <th>  F-statistic:       </th>          <td>   56.93</td>\n",
       "</tr>\n",
       "<tr>\n",
       "  <th>Date:</th>             <td>Sun, 12 Jul 2020</td> <th>  Prob (F-statistic):</th>          <td>8.52e-15</td>\n",
       "</tr>\n",
       "<tr>\n",
       "  <th>Time:</th>                 <td>23:30:46</td>     <th>  Log-Likelihood:    </th>          <td>  21.459</td>\n",
       "</tr>\n",
       "<tr>\n",
       "  <th>No. Observations:</th>      <td>    37</td>      <th>  AIC:               </th>          <td>  -16.92</td>\n",
       "</tr>\n",
       "<tr>\n",
       "  <th>Df Residuals:</th>          <td>    24</td>      <th>  BIC:               </th>          <td>   4.024</td>\n",
       "</tr>\n",
       "<tr>\n",
       "  <th>Df Model:</th>              <td>    13</td>      <th>                     </th>              <td> </td>   \n",
       "</tr>\n",
       "<tr>\n",
       "  <th>Covariance Type:</th>      <td>nonrobust</td>    <th>                     </th>              <td> </td>   \n",
       "</tr>\n",
       "</table>\n",
       "<table class=\"simpletable\">\n",
       "<tr>\n",
       "   <td></td>     <th>coef</th>     <th>std err</th>      <th>t</th>      <th>P>|t|</th>  <th>[0.025</th>    <th>0.975]</th>  \n",
       "</tr>\n",
       "<tr>\n",
       "  <th>53</th> <td>    0.1168</td> <td>    0.179</td> <td>    0.653</td> <td> 0.520</td> <td>   -0.252</td> <td>    0.486</td>\n",
       "</tr>\n",
       "<tr>\n",
       "  <th>49</th> <td>    0.0339</td> <td>    0.168</td> <td>    0.202</td> <td> 0.841</td> <td>   -0.312</td> <td>    0.380</td>\n",
       "</tr>\n",
       "<tr>\n",
       "  <th>7</th>  <td>    0.0708</td> <td>    0.097</td> <td>    0.733</td> <td> 0.470</td> <td>   -0.128</td> <td>    0.270</td>\n",
       "</tr>\n",
       "<tr>\n",
       "  <th>37</th> <td>    0.0536</td> <td>    0.145</td> <td>    0.371</td> <td> 0.714</td> <td>   -0.245</td> <td>    0.352</td>\n",
       "</tr>\n",
       "<tr>\n",
       "  <th>16</th> <td>   -0.0022</td> <td>    0.106</td> <td>   -0.021</td> <td> 0.983</td> <td>   -0.220</td> <td>    0.216</td>\n",
       "</tr>\n",
       "<tr>\n",
       "  <th>40</th> <td>    0.0146</td> <td>    0.129</td> <td>    0.113</td> <td> 0.911</td> <td>   -0.251</td> <td>    0.281</td>\n",
       "</tr>\n",
       "<tr>\n",
       "  <th>46</th> <td>    0.0135</td> <td>    0.102</td> <td>    0.131</td> <td> 0.897</td> <td>   -0.198</td> <td>    0.225</td>\n",
       "</tr>\n",
       "<tr>\n",
       "  <th>20</th> <td>    0.0317</td> <td>    0.105</td> <td>    0.301</td> <td> 0.766</td> <td>   -0.186</td> <td>    0.249</td>\n",
       "</tr>\n",
       "<tr>\n",
       "  <th>58</th> <td>    0.0619</td> <td>    0.146</td> <td>    0.425</td> <td> 0.675</td> <td>   -0.239</td> <td>    0.362</td>\n",
       "</tr>\n",
       "<tr>\n",
       "  <th>41</th> <td>    0.0087</td> <td>    0.075</td> <td>    0.116</td> <td> 0.909</td> <td>   -0.145</td> <td>    0.163</td>\n",
       "</tr>\n",
       "<tr>\n",
       "  <th>52</th> <td>    0.0450</td> <td>    0.083</td> <td>    0.544</td> <td> 0.591</td> <td>   -0.126</td> <td>    0.216</td>\n",
       "</tr>\n",
       "<tr>\n",
       "  <th>39</th> <td>   -0.0033</td> <td>    0.092</td> <td>   -0.036</td> <td> 0.972</td> <td>   -0.193</td> <td>    0.186</td>\n",
       "</tr>\n",
       "<tr>\n",
       "  <th>38</th> <td>    0.0111</td> <td>    0.107</td> <td>    0.104</td> <td> 0.918</td> <td>   -0.209</td> <td>    0.231</td>\n",
       "</tr>\n",
       "</table>\n",
       "<table class=\"simpletable\">\n",
       "<tr>\n",
       "  <th>Omnibus:</th>       <td>10.325</td> <th>  Durbin-Watson:     </th> <td>   1.969</td>\n",
       "</tr>\n",
       "<tr>\n",
       "  <th>Prob(Omnibus):</th> <td> 0.006</td> <th>  Jarque-Bera (JB):  </th> <td>   9.613</td>\n",
       "</tr>\n",
       "<tr>\n",
       "  <th>Skew:</th>          <td>-1.193</td> <th>  Prob(JB):          </th> <td> 0.00818</td>\n",
       "</tr>\n",
       "<tr>\n",
       "  <th>Kurtosis:</th>      <td> 3.738</td> <th>  Cond. No.          </th> <td>    46.0</td>\n",
       "</tr>\n",
       "</table><br/><br/>Warnings:<br/>[1] Standard Errors assume that the covariance matrix of the errors is correctly specified."
      ],
      "text/plain": [
       "<class 'statsmodels.iolib.summary.Summary'>\n",
       "\"\"\"\n",
       "                                 OLS Regression Results                                \n",
       "=======================================================================================\n",
       "Dep. Variable:                   VDEM   R-squared (uncentered):                   0.969\n",
       "Model:                            OLS   Adj. R-squared (uncentered):              0.952\n",
       "Method:                 Least Squares   F-statistic:                              56.93\n",
       "Date:                Sun, 12 Jul 2020   Prob (F-statistic):                    8.52e-15\n",
       "Time:                        23:30:46   Log-Likelihood:                          21.459\n",
       "No. Observations:                  37   AIC:                                     -16.92\n",
       "Df Residuals:                      24   BIC:                                      4.024\n",
       "Df Model:                          13                                                  \n",
       "Covariance Type:            nonrobust                                                  \n",
       "==============================================================================\n",
       "                 coef    std err          t      P>|t|      [0.025      0.975]\n",
       "------------------------------------------------------------------------------\n",
       "53             0.1168      0.179      0.653      0.520      -0.252       0.486\n",
       "49             0.0339      0.168      0.202      0.841      -0.312       0.380\n",
       "7              0.0708      0.097      0.733      0.470      -0.128       0.270\n",
       "37             0.0536      0.145      0.371      0.714      -0.245       0.352\n",
       "16            -0.0022      0.106     -0.021      0.983      -0.220       0.216\n",
       "40             0.0146      0.129      0.113      0.911      -0.251       0.281\n",
       "46             0.0135      0.102      0.131      0.897      -0.198       0.225\n",
       "20             0.0317      0.105      0.301      0.766      -0.186       0.249\n",
       "58             0.0619      0.146      0.425      0.675      -0.239       0.362\n",
       "41             0.0087      0.075      0.116      0.909      -0.145       0.163\n",
       "52             0.0450      0.083      0.544      0.591      -0.126       0.216\n",
       "39            -0.0033      0.092     -0.036      0.972      -0.193       0.186\n",
       "38             0.0111      0.107      0.104      0.918      -0.209       0.231\n",
       "==============================================================================\n",
       "Omnibus:                       10.325   Durbin-Watson:                   1.969\n",
       "Prob(Omnibus):                  0.006   Jarque-Bera (JB):                9.613\n",
       "Skew:                          -1.193   Prob(JB):                      0.00818\n",
       "Kurtosis:                       3.738   Cond. No.                         46.0\n",
       "==============================================================================\n",
       "\n",
       "Warnings:\n",
       "[1] Standard Errors assume that the covariance matrix of the errors is correctly specified.\n",
       "\"\"\""
      ]
     },
     "execution_count": 210,
     "metadata": {},
     "output_type": "execute_result"
    }
   ],
   "source": [
    "results = regress(X,Y)\n",
    "results.summary()"
   ]
  },
  {
   "cell_type": "code",
   "execution_count": null,
   "metadata": {},
   "outputs": [],
   "source": []
  },
  {
   "cell_type": "code",
   "execution_count": null,
   "metadata": {},
   "outputs": [],
   "source": []
  }
 ],
 "metadata": {
  "kernelspec": {
   "display_name": "Python 3",
   "language": "python",
   "name": "python3"
  },
  "language_info": {
   "codemirror_mode": {
    "name": "ipython",
    "version": 3
   },
   "file_extension": ".py",
   "mimetype": "text/x-python",
   "name": "python",
   "nbconvert_exporter": "python",
   "pygments_lexer": "ipython3",
   "version": "3.7.4"
  }
 },
 "nbformat": 4,
 "nbformat_minor": 2
}
